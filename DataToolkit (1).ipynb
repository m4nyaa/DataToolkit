{
  "metadata": {
    "kernelspec": {
      "name": "python",
      "display_name": "Python (Pyodide)",
      "language": "python"
    },
    "language_info": {
      "codemirror_mode": {
        "name": "python",
        "version": 3
      },
      "file_extension": ".py",
      "mimetype": "text/x-python",
      "name": "python",
      "nbconvert_exporter": "python",
      "pygments_lexer": "ipython3",
      "version": "3.8"
    }
  },
  "nbformat_minor": 5,
  "nbformat": 4,
  "cells": [
    {
      "id": "4648683e-cb16-4356-b172-6000cdcc298a",
      "cell_type": "markdown",
      "source": "1. What is NumPy, and why is it widely used in Python?\n    ->NumPy is a library for numerical computing in Python, known for its powerful n-dimensional arrays and fast mathematical operations.\n\n2. How does broadcasting work in NumPy?\n    ->Broadcasting allows operations on arrays of different shapes by automatically expanding their dimensions.\n\n3. What is a Pandas DataFrame?\n    ->A DataFrame is a 2D labeled data structure with columns of potentially different types, like a table in a database or Excel.\n\n4. Explain the use of the `groupby()` method in Pandas.\n    ->groupby() splits data into groups based on a key, applies a function, and combines the results.\n\n5. Why is Seaborn preferred for statistical visualizations?\n    ->Seaborn provides high-level, attractive, and informative statistical graphics with less code.\n\n6. What are the differences between NumPy arrays and Python lists?\n->NumPy arrays are faster, support element-wise operations, and require homogeneous data types.\n\n7. What is a heatmap, and when should it be used?\n    ->A heatmap visualizes data values as color in a matrix; it's used to show patterns or correlations.\n\n8. What does the term “vectorized operation” mean in NumPy?\n    ->It refers to operations applied to entire arrays without explicit loops, improving performance.\n\n9. How does Matplotlib differ from Plotly?\n    ->Matplotlib is static and customizable; Plotly is interactive and web-friendly.\n\n10. What is the significance of hierarchical indexing in Pandas?\n    ->It allows multiple levels of indexing in a DataFrame for complex data organization and selection.\n\n11. What is the role of Seaborn’s `pairplot()` function?\n    ->pairplot() visualizes pairwise relationships in a dataset, often used for exploring distributions.\n\n12. What is the purpose of the `describe()` function in Pandas?\n    ->`describe()` provides summary statistics (mean, std, min, etc.) for numeric columns.\n\n13. Why is handling missing data important in Pandas?\n    ->Missing data can skew analysis; Pandas offers tools to detect, fill, or drop them.\n\n14. What are the benefits of using Plotly for data visualization?\n    ->Plotly creates interactive, web-ready visualizations with rich features and easy customization.\n\n15. How does NumPy handle multidimensional arrays?\n    ->NumPy uses `ndarray` to store and operate on multidimensional data efficiently.\n\n16. What is the role of Bokeh in data visualization?\n    ->Bokeh creates interactive, browser-based visualizations for large and streaming datasets.\n\n17. Explain the difference between `apply()` and `map()` in Pandas.\n    ->`map()` is for element-wise operations on Series; `apply()` can be used on Series or DataFrames with functions.\n    \n18. What are some advanced features of NumPy?\n    ->Broadcasting, vectorization, masked arrays, linear algebra functions, and memory mapping.\n\n19. How does Pandas simplify time series analysis?\n    ->Pandas supports date indexing, resampling, frequency conversion, and time-based slicing.\n\n20. What is the role of a pivot table in Pandas?\n    ->It summarizes data using aggregation functions, reorganizing it by specified rows and columns.\n\n21. Why is NumPy’s array slicing faster than Python’s list slicing?\n    ->NumPy uses contiguous memory and C-level optimizations, unlike Python lists.\n\n22. What are some common use cases for Seaborn?\n    ->Correlation analysis, distribution plots, regression visualization, and categorical comparisons.\n",
      "metadata": {}
    },
    {
      "id": "b5f9d778-0948-4e5c-a875-9f627c3cc444",
      "cell_type": "code",
      "source": "#1\nimport numpy as np\narr = np.array([[1, 2], [3, 4], [5, 6]])\nrow_sums = np.sum(arr, axis=1)\nprint(row_sums)",
      "metadata": {
        "trusted": true
      },
      "outputs": [
        {
          "name": "stdout",
          "output_type": "stream",
          "text": "[ 3  7 11]\n"
        }
      ],
      "execution_count": 1
    },
    {
      "id": "fb39a7fc-e5a8-48d0-9ccb-e2f292de0ae5",
      "cell_type": "code",
      "source": "#2\nimport pandas as pd\ndf = pd.DataFrame({'A': [10, 20, 30], 'B': [5, 15, 25]})\nmean_B = df['B'].mean()\nprint(mean_B)",
      "metadata": {
        "trusted": true
      },
      "outputs": [
        {
          "name": "stdout",
          "output_type": "stream",
          "text": "15.0\n"
        }
      ],
      "execution_count": 2
    },
    {
      "id": "0be0f4d7-5625-49c5-9ba5-9d07307c0893",
      "cell_type": "code",
      "source": "#3\nimport matplotlib.pyplot as plt\nx = [1, 2, 3]\ny = [4, 1, 7]\nplt.scatter(x, y)\nplt.show()",
      "metadata": {
        "trusted": true
      },
      "outputs": [
        {
          "name": "stderr",
          "output_type": "stream",
          "text": "Matplotlib is building the font cache; this may take a moment.\n"
        },
        {
          "output_type": "display_data",
          "data": {
            "text/plain": "<Figure size 640x480 with 1 Axes>",
            "image/png": "[encoded data removed]"
          },
          "metadata": {}
        }
      ],
      "execution_count": 3
    },
    {
      "id": "3f86aa07-bf7c-46fa-ba1f-0f76f68fd861",
      "cell_type": "code",
      "source": "#4\nimport seaborn as sns\nimport pandas as pd\ndf = sns.load_dataset('iris')\ncorr = df.corr(numeric_only=True)\nsns.heatmap(corr, annot=True, cmap='coolwarm')",
      "metadata": {
        "trusted": true
      },
      "outputs": [],
      "execution_count": null
    },
    {
      "id": "e1235b9b-7f81-44d4-a992-d479d00fe744",
      "cell_type": "code",
      "source": "#5\nimport plotly.express as px\ndata = {'Fruits': ['Apple', 'Banana', 'Cherry'], 'Count': [10, 20, 15]}\nfig = px.bar(data, x='Fruits', y='Count')\nfig.show()",
      "metadata": {
        "trusted": true
      },
      "outputs": [],
      "execution_count": null
    },
    {
      "id": "efc3c7ad-0b83-4ad3-b38c-4966e2373763",
      "cell_type": "code",
      "source": "#6\ndf = pd.DataFrame({'A': [1, 2, 3]})\ndf['B'] = df['A'] * 2\nprint(df)",
      "metadata": {
        "trusted": true
      },
      "outputs": [
        {
          "name": "stdout",
          "output_type": "stream",
          "text": "   A  B\n0  1  2\n1  2  4\n2  3  6\n"
        }
      ],
      "execution_count": 15
    },
    {
      "id": "32d7ab37-2111-436d-9b27-6694b64df1fd",
      "cell_type": "code",
      "source": "#7\na = np.array([1, 2, 3])\nb = np.array([4, 5, 6])\nresult = a * b\nprint(result)",
      "metadata": {
        "trusted": true
      },
      "outputs": [
        {
          "name": "stdout",
          "output_type": "stream",
          "text": "[ 4 10 18]\n"
        }
      ],
      "execution_count": 16
    },
    {
      "id": "c58247fb-f187-4f09-8bee-f4fa2fbd4821",
      "cell_type": "code",
      "source": "#8\nx = [1, 2, 3]\ny1 = [1, 4, 9]\ny2 = [2, 5, 10]\nplt.plot(x, y1, label='Line 1')\nplt.plot(x, y2, label='Line 2')\nplt.legend()\nplt.show()",
      "metadata": {
        "trusted": true
      },
      "outputs": [],
      "execution_count": 8
    },
    {
      "id": "99a27840-56f8-4f62-905f-b1bb9f3442a3",
      "cell_type": "code",
      "source": "#9\ndf = pd.DataFrame({'Score': [50, 80, 90]})\nfiltered = df[df['Score'] > 70]\nprint(filtered)",
      "metadata": {
        "trusted": true
      },
      "outputs": [
        {
          "name": "stdout",
          "output_type": "stream",
          "text": "   Score\n1     80\n2     90\n"
        }
      ],
      "execution_count": 17
    },
    {
      "id": "91f799aa-2c8b-4f7b-b867-b4b87fefd67e",
      "cell_type": "code",
      "source": "#10\nsns.histplot(data=df, x='Score', bins=5, kde=True)\nplt.show()",
      "metadata": {
        "trusted": true
      },
      "outputs": [],
      "execution_count": null
    },
    {
      "id": "4456b52f-74bf-46b5-a18a-a24e331f726e",
      "cell_type": "code",
      "source": "#11\na = np.array([[1, 2], [3, 4]])\nb = np.array([[5, 6], [7, 8]])\nresult = np.dot(a, b)\nprint(result)",
      "metadata": {
        "trusted": true
      },
      "outputs": [
        {
          "name": "stdout",
          "output_type": "stream",
          "text": "[[19 22]\n [43 50]]\n"
        }
      ],
      "execution_count": 19
    },
    {
      "id": "adb53a75-dd68-462e-8f97-3940bb3ef546",
      "cell_type": "code",
      "source": "#12 Load a CSV file and display the first 5 rows\ndf = pd.read_csv('data.csv')\nprint(df.head())",
      "metadata": {
        "trusted": true
      },
      "outputs": [],
      "execution_count": null
    },
    {
      "id": "835515ee-9d23-41a1-8015-bec0d6cdcad6",
      "cell_type": "code",
      "source": "#13Create a 3D scatter plot using Plotly\nimport plotly.graph_objects as go\nfig = go.Figure(data=[go.Scatter3d(\n    x=[1, 2, 3], y=[4, 5, 6], z=[7, 8, 9],\n    mode='markers',\n    marker=dict(size=5)\n)])\nfig.show()",
      "metadata": {
        "trusted": true
      },
      "outputs": [],
      "execution_count": null
    }
  ]
}